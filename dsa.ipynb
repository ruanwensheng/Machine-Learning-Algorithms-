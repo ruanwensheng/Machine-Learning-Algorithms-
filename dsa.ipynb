{
  "nbformat": 4,
  "nbformat_minor": 0,
  "metadata": {
    "colab": {
      "provenance": [],
      "authorship_tag": "ABX9TyNJBGGpNBXRsHDxoVLyNy2p",
      "include_colab_link": true
    },
    "kernelspec": {
      "name": "python3",
      "display_name": "Python 3"
    },
    "language_info": {
      "name": "python"
    }
  },
  "cells": [
    {
      "cell_type": "markdown",
      "metadata": {
        "id": "view-in-github",
        "colab_type": "text"
      },
      "source": [
        "<a href=\"https://colab.research.google.com/github/ruanwensheng/Machine-Learning-Algorithms-/blob/main/dsa.ipynb\" target=\"_parent\"><img src=\"https://colab.research.google.com/assets/colab-badge.svg\" alt=\"Open In Colab\"/></a>"
      ]
    },
    {
      "cell_type": "code",
      "execution_count": null,
      "metadata": {
        "colab": {
          "base_uri": "https://localhost:8080/"
        },
        "id": "-3iCS9nqFG1n",
        "outputId": "bf2061c3-c425-493f-9e48-dc0b594516d7"
      },
      "outputs": [
        {
          "output_type": "stream",
          "name": "stdout",
          "text": [
            "False\n"
          ]
        }
      ],
      "source": [
        "def e326(n):\n",
        "  while n%3==0 and n!=0:\n",
        "    n = n/3\n",
        "  if n == 1:\n",
        "    return True\n",
        "  else:\n",
        "    return False\n",
        "\n",
        "print(e326(-1))"
      ]
    },
    {
      "cell_type": "code",
      "source": [],
      "metadata": {
        "id": "TRAbuAXTPkqR"
      },
      "execution_count": null,
      "outputs": []
    },
    {
      "cell_type": "markdown",
      "source": [
        "pascal tria:\n",
        "n = 1 : [[1]]\n",
        "n = 2: [[1],[1,2,1]]\n",
        "n = 3: [[1],[1,2,1],[1,3,3,1]]"
      ],
      "metadata": {
        "id": "cLbxR1V8GLa3"
      }
    },
    {
      "cell_type": "markdown",
      "source": [
        "**GENERAL SOLUTION FOR PARTITION PROBLEMS**"
      ],
      "metadata": {
        "id": "u5PWQsaXOq6J"
      }
    },
    {
      "cell_type": "markdown",
      "source": [
        "Cho một mảng số nguyên dương arr, hãy xác định xem ta có thể chia nó thành 2 tập con sao cho tổng các phần tử của 2 tập bằng nhau hay không.\n",
        "\n",
        "Ví dụ:\n",
        "\n",
        "ini\n",
        "Copy\n",
        "Edit\n",
        "arr = [1, 5, 11, 5]\n",
        "Tổng = 22 → mục tiêu mỗi tập con = target = 11\n",
        "\n",
        "Cần tìm xem có tập con nào cộng lại = 11 không.\n",
        "\n"
      ],
      "metadata": {
        "id": "yK7jFRLUPkBn"
      }
    },
    {
      "cell_type": "code",
      "source": [
        "# Độ phức tạp là n*target\n",
        "def m1(arr):\n",
        "  total_sum = sum(arr)\n",
        "  if total_sum % 2 ==1:\n",
        "    return False\n",
        "  target = total_sum /2\n",
        "\n",
        "  from functools import lru_cache\n",
        "  @lru_cache(None)\n",
        "\n",
        "  def dfs(index, cur_sum):\n",
        "    if cur_sum == target:\n",
        "      return True\n",
        "    if cur_sum > target or index > len(arr):\n",
        "      return False\n",
        "\n",
        "    return dfs(index+1, cur_sum + arr[index])  or dfs(index+1, cur_sum)\n",
        "\n",
        "  return dfs(0,0)"
      ],
      "metadata": {
        "id": "h53P8OukPa17"
      },
      "execution_count": null,
      "outputs": []
    },
    {
      "cell_type": "code",
      "source": [
        "def e2264(nums):\n",
        "  res = []\n",
        "  i = 0\n",
        "  while i+3 <= len(nums) :\n",
        "    wid = nums[i:i+3]\n",
        "    if int(wid)% 111==0:\n",
        "      res.append(wid)\n",
        "    i +=1\n",
        "  if not res:\n",
        "    return ''\n",
        "  return max(res)\n",
        "nums = \"6777133339\"\n",
        "print(e2264(nums))"
      ],
      "metadata": {
        "colab": {
          "base_uri": "https://localhost:8080/"
        },
        "id": "dUBwIYxbe0jo",
        "outputId": "4caca25b-9671-426e-e6a9-b7b35421f950"
      },
      "execution_count": null,
      "outputs": [
        {
          "output_type": "stream",
          "name": "stdout",
          "text": [
            "777\n"
          ]
        }
      ]
    }
  ]
}